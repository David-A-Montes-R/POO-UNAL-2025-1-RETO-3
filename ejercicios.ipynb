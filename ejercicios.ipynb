{
 "cells": [
  {
   "cell_type": "code",
   "execution_count": null,
   "id": "da1e4ce9",
   "metadata": {},
   "outputs": [],
   "source": [
    "class MenuItem:\n",
    "    def __init__(self, name:str, price:float):\n",
    "        self.name = name\n",
    "        self.price = price\n",
    "    def calculate(self, i:\"MenuItem\"):\n",
    "        items = []\n",
    "        items.append(i.price)\n",
    "        sum_pri\n",
    "        for i items:"
   ]
  }
 ],
 "metadata": {
  "language_info": {
   "name": "python"
  }
 },
 "nbformat": 4,
 "nbformat_minor": 5
}
