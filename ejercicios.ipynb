{
 "cells": [
  {
   "cell_type": "code",
   "execution_count": 19,
   "id": "da1e4ce9",
   "metadata": {},
   "outputs": [
    {
     "ename": "TypeError",
     "evalue": "MenuItem.calculate() takes 1 positional argument but 2 were given",
     "output_type": "error",
     "traceback": [
      "\u001b[1;31m---------------------------------------------------------------------------\u001b[0m",
      "\u001b[1;31mTypeError\u001b[0m                                 Traceback (most recent call last)",
      "Cell \u001b[1;32mIn[19], line 13\u001b[0m\n\u001b[0;32m     11\u001b[0m ajiaco \u001b[38;5;241m=\u001b[39m MenuItem( \u001b[38;5;124m\"\u001b[39m\u001b[38;5;124majiaco\u001b[39m\u001b[38;5;124m\"\u001b[39m, \u001b[38;5;241m15\u001b[39m)\n\u001b[0;32m     12\u001b[0m caldo \u001b[38;5;241m=\u001b[39m MenuItem(\u001b[38;5;124m\"\u001b[39m\u001b[38;5;124mcaldo\u001b[39m\u001b[38;5;124m\"\u001b[39m, \u001b[38;5;241m20\u001b[39m)\n\u001b[1;32m---> 13\u001b[0m \u001b[43mcaldo\u001b[49m\u001b[38;5;241;43m.\u001b[39;49m\u001b[43mcalculate\u001b[49m\u001b[43m(\u001b[49m\u001b[43majiaco\u001b[49m\u001b[43m)\u001b[49m\n",
      "\u001b[1;31mTypeError\u001b[0m: MenuItem.calculate() takes 1 positional argument but 2 were given"
     ]
    }
   ],
   "source": [
    "class MenuItem:\n",
    "    def __init__(self, name:str, price:float):\n",
    "        self.name = name\n",
    "        self.price = price\n",
    "    def calculate(self, **i:\"MenuItem\"):\n",
    "        items = []\n",
    "        items.append(i.price)\n",
    "        for j in items:\n",
    "            print(\"gato\")\n",
    "            \n",
    "ajiaco = MenuItem( \"ajiaco\", 15)\n",
    "caldo = MenuItem(\"caldo\", 20)\n",
    "caldo.calculate(ajiaco)\n"
   ]
  }
 ],
 "metadata": {
  "kernelspec": {
   "display_name": "Python 3",
   "language": "python",
   "name": "python3"
  },
  "language_info": {
   "codemirror_mode": {
    "name": "ipython",
    "version": 3
   },
   "file_extension": ".py",
   "mimetype": "text/x-python",
   "name": "python",
   "nbconvert_exporter": "python",
   "pygments_lexer": "ipython3",
   "version": "3.12.2"
  }
 },
 "nbformat": 4,
 "nbformat_minor": 5
}
