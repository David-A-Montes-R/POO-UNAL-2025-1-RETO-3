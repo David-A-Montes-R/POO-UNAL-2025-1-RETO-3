{
 "cells": [
  {
   "cell_type": "code",
   "execution_count": null,
   "id": "da1e4ce9",
   "metadata": {},
   "outputs": [],
   "source": [
    "class MenuItem:\n",
    "    def __init__(self, name:str, price:float, quantity: int):\n",
    "        self.name = name\n",
    "        self.price = price\n",
    "        self.quantity = quantity\n",
    "    def calculate(self):\n",
    "        total_price = self.price*self.quantity\n",
    "        return total_price\n",
    "            \n",
    "class Arroz(MenuItem):\n",
    "    def __init__(self, name, price, quantity, meat: bool, vegetables: bool, \n",
    "                 seafood: bool ):\n",
    "        super().__init__(name, price, quantity)\n",
    "        self.meat = meat\n",
    "        self.vegetables = vegetables\n",
    "class Sopa(MenuItem):\n",
    "    def __init__(self, name, price, quantity, meat: bool, changua:bool, \n",
    "                 seafood: bool):\n",
    "        super().__init__(name, price, quantity)\n"
   ]
  }
 ],
 "metadata": {
  "kernelspec": {
   "display_name": "Python 3",
   "language": "python",
   "name": "python3"
  },
  "language_info": {
   "codemirror_mode": {
    "name": "ipython",
    "version": 3
   },
   "file_extension": ".py",
   "mimetype": "text/x-python",
   "name": "python",
   "nbconvert_exporter": "python",
   "pygments_lexer": "ipython3",
   "version": "3.12.2"
  }
 },
 "nbformat": 4,
 "nbformat_minor": 5
}
